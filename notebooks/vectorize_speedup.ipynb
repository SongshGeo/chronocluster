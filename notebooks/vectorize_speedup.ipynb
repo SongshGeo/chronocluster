{
 "cells": [
  {
   "cell_type": "markdown",
   "metadata": {},
   "source": [
    "# Playground"
   ]
  },
  {
   "cell_type": "markdown",
   "metadata": {},
   "source": [
    "This is a playground for testing the performance of the inclusion probability calculation."
   ]
  },
  {
   "cell_type": "code",
   "execution_count": null,
   "metadata": {},
   "outputs": [],
   "source": [
    "import numpy as np\n",
    "\n",
    "\n",
    "# Old function\n",
    "def in_probs_old(points, time_slices):\n",
    "    n_points = len(points)\n",
    "    n_slices = len(time_slices)\n",
    "    inclusion_probs = np.zeros((n_points, n_slices))\n",
    "\n",
    "    for i, point in enumerate(points):\n",
    "        for j, t in enumerate(time_slices):\n",
    "            inclusion_probs[i, j] = point.calculate_inclusion_probability(t)\n",
    "\n",
    "    return inclusion_probs"
   ]
  },
  {
   "cell_type": "markdown",
   "metadata": {},
   "source": [
    "Taken from example.py"
   ]
  },
  {
   "cell_type": "code",
   "execution_count": null,
   "metadata": {},
   "outputs": [],
   "source": [
    "from chronocluster.data.simdata import generate_random_points\n",
    "\n",
    "# Example usage\n",
    "# Generate random point locations in clusters\n",
    "# define cluster distributions\n",
    "cluster_centers = [(10, 10), (20, 20)]\n",
    "cluster_stds = [1.0, 1.5]\n",
    "\n",
    "# create random start and end ages with uncertainty for each point\n",
    "# define dating models and uncertainties\n",
    "start_type = \"norm\"\n",
    "start_hyperparams = [1000, 50, 100]\n",
    "end_type = \"constant\"\n",
    "end_hyperparams = [2000]\n",
    "\n",
    "# finally, generate 100 random points using the above models\n",
    "points = generate_random_points(\n",
    "    100,\n",
    "    cluster_centers,\n",
    "    cluster_stds,\n",
    "    start_type,\n",
    "    start_hyperparams,\n",
    "    end_type,\n",
    "    end_hyperparams,\n",
    ")"
   ]
  },
  {
   "cell_type": "markdown",
   "metadata": {},
   "source": [
    "Plot the time taken for the old and new functions."
   ]
  },
  {
   "cell_type": "code",
   "execution_count": null,
   "metadata": {},
   "outputs": [],
   "source": [
    "import matplotlib.pyplot as plt\n",
    "import time\n",
    "from chronocluster.clustering import in_probs\n",
    "\n",
    "time_slices = np.linspace(0, 2000, 100)\n",
    "n_points = np.arange(5, 101, 5)\n",
    "old_func, new_func = [], []\n",
    "\n",
    "for n_point in n_points:\n",
    "    points = generate_random_points(\n",
    "        n_point,\n",
    "        cluster_centers,\n",
    "        cluster_stds,\n",
    "        start_type,\n",
    "        start_hyperparams,\n",
    "        end_type,\n",
    "        end_hyperparams,\n",
    "    )\n",
    "\n",
    "    # old function\n",
    "    start_time = time.time()\n",
    "    in_probs_old(points, time_slices)\n",
    "    end_time = time.time()\n",
    "    old_func.append(end_time - start_time)\n",
    "\n",
    "    # new function\n",
    "    start_time = time.time()\n",
    "    in_probs(points, time_slices)\n",
    "    end_time = time.time()\n",
    "    new_func.append(end_time - start_time)\n",
    "\n",
    "plt.plot(n_points, old_func, label=\"Old Function\")\n",
    "plt.plot(n_points, new_func, label=\"New Function\")\n",
    "plt.xlabel(\"Number of Points\")\n",
    "plt.ylabel(\"Time (seconds)\")\n",
    "plt.title(\"Time Comparison\")\n",
    "plt.legend()\n",
    "plt.show()"
   ]
  }
 ],
 "metadata": {
  "kernelspec": {
   "display_name": ".venv",
   "language": "python",
   "name": "python3"
  },
  "language_info": {
   "codemirror_mode": {
    "name": "ipython",
    "version": 3
   },
   "file_extension": ".py",
   "mimetype": "text/x-python",
   "name": "python",
   "nbconvert_exporter": "python",
   "pygments_lexer": "ipython3",
   "version": "3.11.2"
  }
 },
 "nbformat": 4,
 "nbformat_minor": 2
}
